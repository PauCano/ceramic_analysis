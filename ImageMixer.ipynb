{
 "cells": [
  {
   "cell_type": "code",
   "execution_count": 5,
   "metadata": {},
   "outputs": [],
   "source": [
    "import matplotlib.pyplot as plt\n",
    "from skimage import io\n",
    "import glob\n",
    "import spectral.io.envi as envi\n",
    "import shutil\n",
    "import numpy as np\n",
    "import cv2\n",
    "import glob"
   ]
  },
  {
   "cell_type": "code",
   "execution_count": 67,
   "metadata": {},
   "outputs": [],
   "source": [
    "def loadImages(image1Name, image2Name):\n",
    "    maskBasePath = \"pieces_data/masks/\"\n",
    "    maskEnding = \"_labeledMask.png\"\n",
    "    \n",
    "    image1Mask = io.imread(maskBasePath+image1Name+maskEnding)[:,:,0]\n",
    "    image2Mask = io.imread(maskBasePath+image2Name+maskEnding)[:,:,0]\n",
    "    \n",
    "    image1Info = image1Name.split(\"_\")\n",
    "    image2Info = image2Name.split(\"_\")\n",
    "    \n",
    "    image1FolderPath = \"Ceramica/\"+image1Info[0]+\"/\"+image1Info[0]+\"_\"+image1Info[1]+\"/\"+image1Info[2]+\"_\"+image1Info[3]+\"/\"\n",
    "    image2FolderPath = \"Ceramica/\"+image2Info[0]+\"/\"+image2Info[0]+\"_\"+image2Info[1]+\"/\"+image2Info[2]+\"_\"+image2Info[3]+\"/\"\n",
    "\n",
    "    image1PNGPath = glob.glob(image1FolderPath+'*.png')[0].replace('\\\\','/')\n",
    "    image1Path = glob.glob(image1FolderPath+'*capture/*.hdr')[0].replace('\\\\','/')\n",
    "    image2PNGPath = glob.glob(image2FolderPath+'*.png')[0].replace('\\\\','/')\n",
    "    image2Path = glob.glob(image2FolderPath+'*capture/*.hdr')[0].replace('\\\\','/')\n",
    "    \n",
    "    image1PNG = io.imread(image1PNGPath)\n",
    "    image2PNG = io.imread(image2PNGPath)\n",
    "    image1 = envi.open(image1Path)[:,:,:]\n",
    "    image2 = envi.open(image2Path)[:,:,:]\n",
    "    \n",
    "    return image1PNG, image2PNG, image1Mask, image2Mask, image1, image2"
   ]
  },
  {
   "cell_type": "code",
   "execution_count": 92,
   "metadata": {},
   "outputs": [],
   "source": [
    "def createNewImage(image1Name, image2Name, class1, class2, image1Pieces, image2Pieces, newName):\n",
    "    images = loadImages(image1Name, image2Name)\n",
    "    newImage=np.zeros(images[4].shape)\n",
    "    newPNGImage=np.zeros(images[0].shape)\n",
    "    newMaskImage=np.zeros(images[0].shape[0:2])\n",
    "    for i in image1Pieces:\n",
    "        indexes = images[2]==i\n",
    "        newImage[indexes]=images[4][indexes]\n",
    "        newPNGImage[indexes]=images[0][indexes]\n",
    "        newMaskImage[indexes]=class1\n",
    "    for i in image2Pieces:\n",
    "        indexes = images[3]==i\n",
    "        newImage[indexes]=images[5][indexes]\n",
    "        newPNGImage[indexes]=images[1][indexes]\n",
    "        newMaskImage[indexes]=class2\n",
    "        \n",
    "    plt.imshow(newPNGImage/255)\n",
    "    plt.show()\n",
    "    plt.imshow(newMaskImage,vmin=0, vmax=255,cmap='gray')\n",
    "    plt.show()\n",
    "    plt.imsave(\"CustomImages/\"+newName+\"_color.png\",newPNGImage/255)\n",
    "    plt.imsave(\"CustomImages/\"+newName+\".png\",newMaskImage,vmin=0, vmax=255,cmap='gray')\n",
    "    envi.save_image(\"CustomImages/\"+newName+\".hdr\",newImage,force=True)"
   ]
  },
  {
   "cell_type": "code",
   "execution_count": 94,
   "metadata": {},
   "outputs": [
    {
     "data": {
      "image/png": "[encoded data removed]",
      "text/plain": [
       "<Figure size 432x288 with 1 Axes>"
      ]
     },
     "metadata": {
      "needs_background": "light"
     },
     "output_type": "display_data"
    },
    {
     "data": {
      "image/png": "[encoded data removed]",
      "text/plain": [
       "<Figure size 432x288 with 1 Axes>"
      ]
     },
     "metadata": {
      "needs_background": "light"
     },
     "output_type": "display_data"
    }
   ],
   "source": [
    "createNewImage(\"g1_01_1_A\", \"g1_01_1_B\", 0, 0,[1],[2], \"test\")"
   ]
  },
  {
   "cell_type": "code",
   "execution_count": null,
   "metadata": {},
   "outputs": [],
   "source": []
  },
  {
   "cell_type": "code",
   "execution_count": null,
   "metadata": {},
   "outputs": [],
   "source": []
  }
 ],
 "metadata": {
  "kernelspec": {
   "display_name": "Python 3",
   "language": "python",
   "name": "python3"
  },
  "language_info": {
   "codemirror_mode": {
    "name": "ipython",
    "version": 3
   },
   "file_extension": ".py",
   "mimetype": "text/x-python",
   "name": "python",
   "nbconvert_exporter": "python",
   "pygments_lexer": "ipython3",
   "version": "3.8.3"
  }
 },
 "nbformat": 4,
 "nbformat_minor": 4
}
